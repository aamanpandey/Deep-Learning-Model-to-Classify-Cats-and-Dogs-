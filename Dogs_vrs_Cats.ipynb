{
  "nbformat": 4,
  "nbformat_minor": 0,
  "metadata": {
    "colab": {
      "name": "Dogs_vrs_Cats.ipynb",
      "provenance": [],
      "toc_visible": true,
      "machine_shape": "hm"
    },
    "kernelspec": {
      "name": "python3",
      "display_name": "Python 3"
    },
    "accelerator": "GPU"
  },
  "cells": [
    {
      "cell_type": "code",
      "metadata": {
        "id": "pv9jVeO1denB",
        "colab_type": "code",
        "colab": {}
      },
      "source": [
        "#Dogs vs. Cats\n"
      ],
      "execution_count": 0,
      "outputs": []
    },
    {
      "cell_type": "markdown",
      "metadata": {
        "id": "-_HNUkYUMXyV",
        "colab_type": "text"
      },
      "source": [
        "The training archive contains 25,000 images of dogs and cats."
      ]
    },
    {
      "cell_type": "markdown",
      "metadata": {
        "id": "cpS_kxrceXDG",
        "colab_type": "text"
      },
      "source": [
        "Link for dataset: https://www.kaggle.com/c/dogs-vs-cats/data"
      ]
    },
    {
      "cell_type": "code",
      "metadata": {
        "id": "fZnkx4M8eVub",
        "colab_type": "code",
        "colab": {}
      },
      "source": [
        "import pandas as pd\n",
        "import numpy as np\n"
      ],
      "execution_count": 0,
      "outputs": []
    },
    {
      "cell_type": "markdown",
      "metadata": {
        "id": "UEMDWCvheuOL",
        "colab_type": "text"
      },
      "source": [
        "# Data"
      ]
    },
    {
      "cell_type": "code",
      "metadata": {
        "id": "mKHBLAHceVxb",
        "colab_type": "code",
        "outputId": "bfa8297b-2a9d-47f7-92d2-671e250c1b11",
        "colab": {
          "base_uri": "https://localhost:8080/",
          "height": 52
        }
      },
      "source": [
        "import zipfile\n",
        "\n",
        "\n",
        "zip_files = ['test1', 'train']\n",
        "# Will unzip the files so that you can see them..\n",
        "for zip_file in zip_files:\n",
        "    with zipfile.ZipFile(\"{}.zip\".format(zip_file),\"r\") as z:\n",
        "        z.extractall(\".\")\n",
        "        print(\"{} unzipped\".format(zip_file))\n"
      ],
      "execution_count": 0,
      "outputs": [
        {
          "output_type": "stream",
          "text": [
            "test1 unzipped\n",
            "train unzipped\n"
          ],
          "name": "stdout"
        }
      ]
    },
    {
      "cell_type": "code",
      "metadata": {
        "id": "AQXp75oPNgZh",
        "colab_type": "code",
        "colab": {}
      },
      "source": [
        "import os\n",
        "IMAGE_FOLDER_PATH=\"train\"\n",
        "FILE_NAMES=os.listdir(IMAGE_FOLDER_PATH)\n",
        "WIDTH=150\n",
        "HEIGHT=150\n"
      ],
      "execution_count": 0,
      "outputs": []
    },
    {
      "cell_type": "code",
      "metadata": {
        "id": "lqOdZgTHOYn5",
        "colab_type": "code",
        "colab": {}
      },
      "source": [
        "targets=list()\n",
        "full_paths=list()\n",
        "for file_name in FILE_NAMES:\n",
        "    target=file_name.split(\".\")[0]\n",
        "    full_path=os.path.join(IMAGE_FOLDER_PATH, file_name)\n",
        "    full_paths.append(full_path)\n",
        "    targets.append(target)\n",
        "\n",
        "dataset=pd.DataFrame()\n",
        "dataset['image_path']=full_paths\n",
        "dataset['target']=targets"
      ],
      "execution_count": 0,
      "outputs": []
    },
    {
      "cell_type": "code",
      "metadata": {
        "id": "0JJhU_cFOkZN",
        "colab_type": "code",
        "outputId": "44166397-1271-4715-d694-4cafac848fbe",
        "colab": {
          "base_uri": "https://localhost:8080/",
          "height": 355
        }
      },
      "source": [
        "dataset.head(10)"
      ],
      "execution_count": 0,
      "outputs": [
        {
          "output_type": "execute_result",
          "data": {
            "text/html": [
              "<div>\n",
              "<style scoped>\n",
              "    .dataframe tbody tr th:only-of-type {\n",
              "        vertical-align: middle;\n",
              "    }\n",
              "\n",
              "    .dataframe tbody tr th {\n",
              "        vertical-align: top;\n",
              "    }\n",
              "\n",
              "    .dataframe thead th {\n",
              "        text-align: right;\n",
              "    }\n",
              "</style>\n",
              "<table border=\"1\" class=\"dataframe\">\n",
              "  <thead>\n",
              "    <tr style=\"text-align: right;\">\n",
              "      <th></th>\n",
              "      <th>image_path</th>\n",
              "      <th>target</th>\n",
              "    </tr>\n",
              "  </thead>\n",
              "  <tbody>\n",
              "    <tr>\n",
              "      <th>0</th>\n",
              "      <td>train/dog.9153.jpg</td>\n",
              "      <td>dog</td>\n",
              "    </tr>\n",
              "    <tr>\n",
              "      <th>1</th>\n",
              "      <td>train/cat.11630.jpg</td>\n",
              "      <td>cat</td>\n",
              "    </tr>\n",
              "    <tr>\n",
              "      <th>2</th>\n",
              "      <td>train/cat.3765.jpg</td>\n",
              "      <td>cat</td>\n",
              "    </tr>\n",
              "    <tr>\n",
              "      <th>3</th>\n",
              "      <td>train/dog.5445.jpg</td>\n",
              "      <td>dog</td>\n",
              "    </tr>\n",
              "    <tr>\n",
              "      <th>4</th>\n",
              "      <td>train/cat.591.jpg</td>\n",
              "      <td>cat</td>\n",
              "    </tr>\n",
              "    <tr>\n",
              "      <th>5</th>\n",
              "      <td>train/cat.6686.jpg</td>\n",
              "      <td>cat</td>\n",
              "    </tr>\n",
              "    <tr>\n",
              "      <th>6</th>\n",
              "      <td>train/dog.3951.jpg</td>\n",
              "      <td>dog</td>\n",
              "    </tr>\n",
              "    <tr>\n",
              "      <th>7</th>\n",
              "      <td>train/cat.2384.jpg</td>\n",
              "      <td>cat</td>\n",
              "    </tr>\n",
              "    <tr>\n",
              "      <th>8</th>\n",
              "      <td>train/cat.6738.jpg</td>\n",
              "      <td>cat</td>\n",
              "    </tr>\n",
              "    <tr>\n",
              "      <th>9</th>\n",
              "      <td>train/cat.7037.jpg</td>\n",
              "      <td>cat</td>\n",
              "    </tr>\n",
              "  </tbody>\n",
              "</table>\n",
              "</div>"
            ],
            "text/plain": [
              "            image_path target\n",
              "0   train/dog.9153.jpg    dog\n",
              "1  train/cat.11630.jpg    cat\n",
              "2   train/cat.3765.jpg    cat\n",
              "3   train/dog.5445.jpg    dog\n",
              "4    train/cat.591.jpg    cat\n",
              "5   train/cat.6686.jpg    cat\n",
              "6   train/dog.3951.jpg    dog\n",
              "7   train/cat.2384.jpg    cat\n",
              "8   train/cat.6738.jpg    cat\n",
              "9   train/cat.7037.jpg    cat"
            ]
          },
          "metadata": {
            "tags": []
          },
          "execution_count": 60
        }
      ]
    },
    {
      "cell_type": "code",
      "metadata": {
        "id": "k_PfA98ROoZh",
        "colab_type": "code",
        "outputId": "b6ca04e7-acbd-4e17-99ea-d3ec86dcca51",
        "colab": {
          "base_uri": "https://localhost:8080/",
          "height": 52
        }
      },
      "source": [
        "target_counts=dataset['target'].value_counts()\n",
        "print(\"Number of dogs in the dataset:{}\".format(target_counts['dog']))\n",
        "print(\"Number of cats in the dataset:{}\".format(target_counts['cat']))"
      ],
      "execution_count": 0,
      "outputs": [
        {
          "output_type": "stream",
          "text": [
            "Number of dogs in the dataset:12500\n",
            "Number of cats in the dataset:12500\n"
          ],
          "name": "stdout"
        }
      ]
    },
    {
      "cell_type": "code",
      "metadata": {
        "id": "cOyLa4UiOsr2",
        "colab_type": "code",
        "colab": {}
      },
      "source": [
        "def show_model_history(modelHistory, model_name):\n",
        "    history=pd.DataFrame()\n",
        "    history[\"Train Loss\"]=modelHistory.history['loss']\n",
        "    history[\"Validatin Loss\"]=modelHistory.history['val_loss']\n",
        "    history[\"Train Accuracy\"]=modelHistory.history['accuracy']\n",
        "    history[\"Validatin Accuracy\"]=modelHistory.history['val_accuracy']\n",
        "  \n",
        "    history.plot(figsize=(12,8))\n",
        "    plt.title(\" Convulutional Model {} Train and Validation Loss and Accuracy History\".format(model_name))\n",
        "    plt.show()"
      ],
      "execution_count": 0,
      "outputs": []
    },
    {
      "cell_type": "code",
      "metadata": {
        "id": "q5rBxS8cipiK",
        "colab_type": "code",
        "colab": {}
      },
      "source": [
        "from keras import backend\n",
        "backend.clear_session()"
      ],
      "execution_count": 0,
      "outputs": []
    },
    {
      "cell_type": "code",
      "metadata": {
        "id": "PoWrdaq-O7jy",
        "colab_type": "code",
        "outputId": "0dac6dcb-1f43-4b80-9021-f7c370d1eb43",
        "colab": {
          "base_uri": "https://localhost:8080/",
          "height": 988
        }
      },
      "source": [
        "from keras import models\n",
        "from keras import layers\n",
        "model=models.Sequential()\n",
        "model.add(layers.Conv2D(32, (3,3), activation=\"relu\", input_shape=(WIDTH, HEIGHT, 3)))\n",
        "model.add(layers.Conv2D(32, (3,3), activation=\"relu\"))\n",
        "model.add(layers.BatchNormalization())\n",
        "model.add(layers.MaxPooling2D((2,2)))\n",
        "model.add(layers.Dropout(0.25))\n",
        "\n",
        "model.add(layers.Conv2D(64, (3,3), activation=\"relu\"))\n",
        "model.add(layers.Conv2D(64, (3,3), activation=\"relu\"))\n",
        "model.add(layers.BatchNormalization())\n",
        "model.add(layers.MaxPooling2D(2,2))\n",
        "model.add(layers.Dropout(0.25))\n",
        "\n",
        "model.add(layers.Conv2D(128, (3,3), activation=\"relu\"))\n",
        "model.add(layers.Conv2D(128, (3,3), activation=\"relu\"))\n",
        "model.add(layers.BatchNormalization())\n",
        "model.add(layers.MaxPooling2D((2,2)))\n",
        "model.add(layers.Dropout(0.25))\n",
        "\n",
        "model.add(layers.Conv2D(64, (3,3), activation=\"relu\"))\n",
        "model.add(layers.Conv2D(64, (3,3), activation=\"relu\"))\n",
        "model.add(layers.BatchNormalization())\n",
        "model.add(layers.MaxPooling2D((2,2)))\n",
        "model.add(layers.Dropout(0.25))\n",
        "model.add(layers.Flatten())\n",
        "model.add(layers.Dense(512, activation=\"relu\"))\n",
        "model.add(layers.Dropout(0.5))\n",
        "model.add(layers.Dense(1, activation=\"sigmoid\"))\n",
        "model.summary()"
      ],
      "execution_count": 0,
      "outputs": [
        {
          "output_type": "stream",
          "text": [
            "Model: \"sequential_1\"\n",
            "_________________________________________________________________\n",
            "Layer (type)                 Output Shape              Param #   \n",
            "=================================================================\n",
            "conv2d_1 (Conv2D)            (None, 148, 148, 32)      896       \n",
            "_________________________________________________________________\n",
            "conv2d_2 (Conv2D)            (None, 146, 146, 32)      9248      \n",
            "_________________________________________________________________\n",
            "batch_normalization_1 (Batch (None, 146, 146, 32)      128       \n",
            "_________________________________________________________________\n",
            "max_pooling2d_1 (MaxPooling2 (None, 73, 73, 32)        0         \n",
            "_________________________________________________________________\n",
            "dropout_1 (Dropout)          (None, 73, 73, 32)        0         \n",
            "_________________________________________________________________\n",
            "conv2d_3 (Conv2D)            (None, 71, 71, 64)        18496     \n",
            "_________________________________________________________________\n",
            "conv2d_4 (Conv2D)            (None, 69, 69, 64)        36928     \n",
            "_________________________________________________________________\n",
            "batch_normalization_2 (Batch (None, 69, 69, 64)        256       \n",
            "_________________________________________________________________\n",
            "max_pooling2d_2 (MaxPooling2 (None, 34, 34, 64)        0         \n",
            "_________________________________________________________________\n",
            "dropout_2 (Dropout)          (None, 34, 34, 64)        0         \n",
            "_________________________________________________________________\n",
            "conv2d_5 (Conv2D)            (None, 32, 32, 128)       73856     \n",
            "_________________________________________________________________\n",
            "conv2d_6 (Conv2D)            (None, 30, 30, 128)       147584    \n",
            "_________________________________________________________________\n",
            "batch_normalization_3 (Batch (None, 30, 30, 128)       512       \n",
            "_________________________________________________________________\n",
            "max_pooling2d_3 (MaxPooling2 (None, 15, 15, 128)       0         \n",
            "_________________________________________________________________\n",
            "dropout_3 (Dropout)          (None, 15, 15, 128)       0         \n",
            "_________________________________________________________________\n",
            "conv2d_7 (Conv2D)            (None, 13, 13, 64)        73792     \n",
            "_________________________________________________________________\n",
            "conv2d_8 (Conv2D)            (None, 11, 11, 64)        36928     \n",
            "_________________________________________________________________\n",
            "batch_normalization_4 (Batch (None, 11, 11, 64)        256       \n",
            "_________________________________________________________________\n",
            "max_pooling2d_4 (MaxPooling2 (None, 5, 5, 64)          0         \n",
            "_________________________________________________________________\n",
            "dropout_4 (Dropout)          (None, 5, 5, 64)          0         \n",
            "_________________________________________________________________\n",
            "flatten_1 (Flatten)          (None, 1600)              0         \n",
            "_________________________________________________________________\n",
            "dense_1 (Dense)              (None, 512)               819712    \n",
            "_________________________________________________________________\n",
            "dropout_5 (Dropout)          (None, 512)               0         \n",
            "_________________________________________________________________\n",
            "dense_2 (Dense)              (None, 1)                 513       \n",
            "=================================================================\n",
            "Total params: 1,219,105\n",
            "Trainable params: 1,218,529\n",
            "Non-trainable params: 576\n",
            "_________________________________________________________________\n"
          ],
          "name": "stdout"
        }
      ]
    },
    {
      "cell_type": "code",
      "metadata": {
        "id": "VZAURedbO7m6",
        "colab_type": "code",
        "outputId": "91d7c841-d338-4d36-ca94-8e394c711ff5",
        "colab": {
          "base_uri": "https://localhost:8080/",
          "height": 35
        }
      },
      "source": [
        "model.compile(loss=\"binary_crossentropy\", \n",
        "             optimizer='rmsprop',\n",
        "             metrics=[\"accuracy\"])\n",
        "print(\"[INFO]: model compiled...\")"
      ],
      "execution_count": 0,
      "outputs": [
        {
          "output_type": "stream",
          "text": [
            "[INFO]: model compiled...\n"
          ],
          "name": "stdout"
        }
      ]
    },
    {
      "cell_type": "markdown",
      "metadata": {
        "id": "6cppd3EEWhRy",
        "colab_type": "text"
      },
      "source": [
        "# Data Preprocessing"
      ]
    },
    {
      "cell_type": "code",
      "metadata": {
        "id": "6VNPqbGYU_Ch",
        "colab_type": "code",
        "colab": {}
      },
      "source": [
        "from sklearn.model_selection import train_test_split\n",
        "dataset_train, dataset_test1=train_test_split(dataset,\n",
        "                                                 test_size=0.3,\n",
        "                                                 random_state=42)\n",
        "dataset_valid, dataset_test=train_test_split(dataset_test1,\n",
        "                                                 test_size=0.6,\n",
        "                                                 random_state=42)\n"
      ],
      "execution_count": 0,
      "outputs": []
    },
    {
      "cell_type": "code",
      "metadata": {
        "id": "YEFpqz5HJeYF",
        "colab_type": "code",
        "outputId": "1259c50d-a079-47a3-e91a-281eb02428ec",
        "colab": {
          "base_uri": "https://localhost:8080/",
          "height": 69
        }
      },
      "source": [
        "#we are using ImageDataGenerator to read images from directories\n",
        "from keras.preprocessing.image import ImageDataGenerator\n",
        "\n",
        "train_datagen = ImageDataGenerator(rescale=1/255)\n",
        "test_datagen= ImageDataGenerator(rescale=1/255)\n",
        "valid_datagen= ImageDataGenerator(rescale=1/255)\n",
        "\n",
        "train_generator = train_datagen.flow_from_dataframe(\n",
        "    dataset_train, x_col=\"image_path\",\n",
        "    y_col=\"target\", target_size=(150,150), class_mode= \"binary\",  batch_size=20)\n",
        "test_generator= test_datagen.flow_from_dataframe(\n",
        "    dataset_test, x_col=\"image_path\",\n",
        "    y_col=\"target\", target_size=(150,150),\n",
        "    batch_size=20,\n",
        "    class_mode='binary')\n",
        "valid_generator= valid_datagen.flow_from_dataframe(\n",
        "    dataset_valid, x_col=\"image_path\",\n",
        "    y_col=\"target\", target_size=(150,150),\n",
        "    batch_size=20,\n",
        "    class_mode='binary')"
      ],
      "execution_count": 0,
      "outputs": [
        {
          "output_type": "stream",
          "text": [
            "Found 17500 validated image filenames belonging to 2 classes.\n",
            "Found 4500 validated image filenames belonging to 2 classes.\n",
            "Found 3000 validated image filenames belonging to 2 classes.\n"
          ],
          "name": "stdout"
        }
      ]
    },
    {
      "cell_type": "code",
      "metadata": {
        "id": "zM__-omdV4sd",
        "colab_type": "code",
        "outputId": "62d901dd-4ea2-4aad-8ffb-2137c83363db",
        "colab": {
          "base_uri": "https://localhost:8080/",
          "height": 52
        }
      },
      "source": [
        "for data_batch, labels_batch in train_generator:\n",
        "  print('data batch shape:', data_batch.shape)\n",
        "  print('labels batch shape:', labels_batch.shape)\n",
        "  break\n"
      ],
      "execution_count": 0,
      "outputs": [
        {
          "output_type": "stream",
          "text": [
            "data batch shape: (20, 150, 150, 3)\n",
            "labels batch shape: (20,)\n"
          ],
          "name": "stdout"
        }
      ]
    },
    {
      "cell_type": "markdown",
      "metadata": {
        "id": "DtkoYInGWbbb",
        "colab_type": "text"
      },
      "source": [
        "# Fitting The Model"
      ]
    },
    {
      "cell_type": "code",
      "metadata": {
        "id": "1gIIwryrWVnX",
        "colab_type": "code",
        "outputId": "bcc27bda-4e85-4b69-94a3-2c8526fd7b99",
        "colab": {
          "base_uri": "https://localhost:8080/",
          "height": 1000
        }
      },
      "source": [
        "history = model.fit_generator(train_generator,  epochs=50, validation_data= valid_generator)"
      ],
      "execution_count": 0,
      "outputs": [
        {
          "output_type": "stream",
          "text": [
            "Epoch 1/50\n",
            "875/875 [==============================] - 62s 70ms/step - loss: 0.7946 - accuracy: 0.5763 - val_loss: 0.7748 - val_accuracy: 0.5653\n",
            "Epoch 2/50\n",
            "875/875 [==============================] - 60s 69ms/step - loss: 0.6014 - accuracy: 0.6836 - val_loss: 1.0306 - val_accuracy: 0.6103\n",
            "Epoch 3/50\n",
            "875/875 [==============================] - 61s 69ms/step - loss: 0.5156 - accuracy: 0.7584 - val_loss: 0.5143 - val_accuracy: 0.6777\n",
            "Epoch 4/50\n",
            "875/875 [==============================] - 61s 70ms/step - loss: 0.4351 - accuracy: 0.8034 - val_loss: 0.4149 - val_accuracy: 0.8000\n",
            "Epoch 5/50\n",
            "875/875 [==============================] - 60s 69ms/step - loss: 0.3873 - accuracy: 0.8326 - val_loss: 0.2732 - val_accuracy: 0.8203\n",
            "Epoch 6/50\n",
            "875/875 [==============================] - 60s 69ms/step - loss: 0.3451 - accuracy: 0.8533 - val_loss: 0.4658 - val_accuracy: 0.7833\n",
            "Epoch 7/50\n",
            "875/875 [==============================] - 60s 68ms/step - loss: 0.3182 - accuracy: 0.8715 - val_loss: 0.1454 - val_accuracy: 0.8687\n",
            "Epoch 8/50\n",
            "875/875 [==============================] - 60s 69ms/step - loss: 0.2992 - accuracy: 0.8790 - val_loss: 0.4667 - val_accuracy: 0.8290\n",
            "Epoch 9/50\n",
            "875/875 [==============================] - 60s 69ms/step - loss: 0.2699 - accuracy: 0.8908 - val_loss: 0.1707 - val_accuracy: 0.8693\n",
            "Epoch 10/50\n",
            "875/875 [==============================] - 60s 69ms/step - loss: 0.2689 - accuracy: 0.8965 - val_loss: 0.2198 - val_accuracy: 0.8470\n",
            "Epoch 11/50\n",
            "875/875 [==============================] - 60s 69ms/step - loss: 0.2518 - accuracy: 0.9003 - val_loss: 0.7273 - val_accuracy: 0.8710\n",
            "Epoch 12/50\n",
            "875/875 [==============================] - 60s 68ms/step - loss: 0.2369 - accuracy: 0.9060 - val_loss: 0.1645 - val_accuracy: 0.8653\n",
            "Epoch 13/50\n",
            "875/875 [==============================] - 60s 69ms/step - loss: 0.2269 - accuracy: 0.9090 - val_loss: 0.4550 - val_accuracy: 0.8560\n",
            "Epoch 14/50\n",
            "875/875 [==============================] - 60s 69ms/step - loss: 0.2115 - accuracy: 0.9158 - val_loss: 0.3697 - val_accuracy: 0.8457\n",
            "Epoch 15/50\n",
            "875/875 [==============================] - 61s 69ms/step - loss: 0.1952 - accuracy: 0.9241 - val_loss: 0.1637 - val_accuracy: 0.9273\n",
            "Epoch 16/50\n",
            "875/875 [==============================] - 60s 69ms/step - loss: 0.1842 - accuracy: 0.9273 - val_loss: 0.1948 - val_accuracy: 0.8910\n",
            "Epoch 17/50\n",
            "875/875 [==============================] - 60s 69ms/step - loss: 0.1757 - accuracy: 0.9328 - val_loss: 0.4838 - val_accuracy: 0.9223\n",
            "Epoch 18/50\n",
            "875/875 [==============================] - 60s 69ms/step - loss: 0.1585 - accuracy: 0.9398 - val_loss: 0.4880 - val_accuracy: 0.9207\n",
            "Epoch 19/50\n",
            "875/875 [==============================] - 60s 69ms/step - loss: 0.1584 - accuracy: 0.9412 - val_loss: 0.2249 - val_accuracy: 0.9173\n",
            "Epoch 20/50\n",
            "875/875 [==============================] - 60s 69ms/step - loss: 0.1582 - accuracy: 0.9408 - val_loss: 0.1483 - val_accuracy: 0.9197\n",
            "Epoch 21/50\n",
            "875/875 [==============================] - 60s 68ms/step - loss: 0.1406 - accuracy: 0.9465 - val_loss: 0.1267 - val_accuracy: 0.9340\n",
            "Epoch 22/50\n",
            "875/875 [==============================] - 60s 69ms/step - loss: 0.1319 - accuracy: 0.9526 - val_loss: 0.0193 - val_accuracy: 0.9263\n",
            "Epoch 23/50\n",
            "875/875 [==============================] - 61s 69ms/step - loss: 0.1295 - accuracy: 0.9506 - val_loss: 0.1297 - val_accuracy: 0.9300\n",
            "Epoch 24/50\n",
            "875/875 [==============================] - 61s 70ms/step - loss: 0.1213 - accuracy: 0.9544 - val_loss: 0.2600 - val_accuracy: 0.9150\n",
            "Epoch 25/50\n",
            "875/875 [==============================] - 62s 71ms/step - loss: 0.1139 - accuracy: 0.9588 - val_loss: 0.1665 - val_accuracy: 0.9313\n",
            "Epoch 26/50\n",
            "875/875 [==============================] - 61s 70ms/step - loss: 0.1124 - accuracy: 0.9598 - val_loss: 0.0506 - val_accuracy: 0.9317\n",
            "Epoch 27/50\n",
            "875/875 [==============================] - 61s 70ms/step - loss: 0.1018 - accuracy: 0.9621 - val_loss: 0.1531 - val_accuracy: 0.9307\n",
            "Epoch 28/50\n",
            "875/875 [==============================] - 61s 70ms/step - loss: 0.1062 - accuracy: 0.9624 - val_loss: 0.0382 - val_accuracy: 0.9333\n",
            "Epoch 29/50\n",
            "875/875 [==============================] - 60s 69ms/step - loss: 0.1011 - accuracy: 0.9640 - val_loss: 0.0218 - val_accuracy: 0.9267\n",
            "Epoch 30/50\n",
            "875/875 [==============================] - 61s 70ms/step - loss: 0.0936 - accuracy: 0.9671 - val_loss: 0.3198 - val_accuracy: 0.9333\n",
            "Epoch 31/50\n",
            "875/875 [==============================] - 61s 69ms/step - loss: 0.0942 - accuracy: 0.9677 - val_loss: 0.2224 - val_accuracy: 0.9413\n",
            "Epoch 32/50\n",
            "875/875 [==============================] - 61s 70ms/step - loss: 0.0830 - accuracy: 0.9706 - val_loss: 0.0813 - val_accuracy: 0.9320\n",
            "Epoch 33/50\n",
            "875/875 [==============================] - 60s 69ms/step - loss: 0.0783 - accuracy: 0.9705 - val_loss: 0.4169 - val_accuracy: 0.9257\n",
            "Epoch 34/50\n",
            "875/875 [==============================] - 61s 69ms/step - loss: 0.0795 - accuracy: 0.9726 - val_loss: 0.0014 - val_accuracy: 0.9380\n",
            "Epoch 35/50\n",
            "875/875 [==============================] - 61s 69ms/step - loss: 0.0754 - accuracy: 0.9746 - val_loss: 0.0031 - val_accuracy: 0.9330\n",
            "Epoch 36/50\n",
            "875/875 [==============================] - 61s 69ms/step - loss: 0.0721 - accuracy: 0.9744 - val_loss: 0.2284 - val_accuracy: 0.9310\n",
            "Epoch 37/50\n",
            "875/875 [==============================] - 60s 69ms/step - loss: 0.0693 - accuracy: 0.9751 - val_loss: 0.0125 - val_accuracy: 0.9290\n",
            "Epoch 38/50\n",
            "875/875 [==============================] - 60s 69ms/step - loss: 0.0706 - accuracy: 0.9744 - val_loss: 0.3742 - val_accuracy: 0.9257\n",
            "Epoch 39/50\n",
            "875/875 [==============================] - 60s 69ms/step - loss: 0.0690 - accuracy: 0.9783 - val_loss: 0.3399 - val_accuracy: 0.9433\n",
            "Epoch 40/50\n",
            "875/875 [==============================] - 60s 69ms/step - loss: 0.0685 - accuracy: 0.9775 - val_loss: 0.0333 - val_accuracy: 0.9377\n",
            "Epoch 41/50\n",
            "875/875 [==============================] - 60s 69ms/step - loss: 0.0628 - accuracy: 0.9787 - val_loss: 0.1247 - val_accuracy: 0.9367\n",
            "Epoch 42/50\n",
            "875/875 [==============================] - 61s 69ms/step - loss: 0.0602 - accuracy: 0.9800 - val_loss: 0.5094 - val_accuracy: 0.9370\n",
            "Epoch 43/50\n",
            "875/875 [==============================] - 60s 69ms/step - loss: 0.0599 - accuracy: 0.9800 - val_loss: 0.1829 - val_accuracy: 0.9200\n",
            "Epoch 44/50\n",
            "875/875 [==============================] - 60s 69ms/step - loss: 0.0586 - accuracy: 0.9801 - val_loss: 0.1370 - val_accuracy: 0.9307\n",
            "Epoch 45/50\n",
            "875/875 [==============================] - 61s 70ms/step - loss: 0.0570 - accuracy: 0.9835 - val_loss: 0.3470 - val_accuracy: 0.9253\n",
            "Epoch 46/50\n",
            "875/875 [==============================] - 61s 70ms/step - loss: 0.0587 - accuracy: 0.9795 - val_loss: 0.4268 - val_accuracy: 0.9250\n",
            "Epoch 47/50\n",
            "875/875 [==============================] - 61s 69ms/step - loss: 0.0594 - accuracy: 0.9796 - val_loss: 0.0443 - val_accuracy: 0.9357\n",
            "Epoch 48/50\n",
            "875/875 [==============================] - 61s 69ms/step - loss: 0.0532 - accuracy: 0.9826 - val_loss: 0.0932 - val_accuracy: 0.9207\n",
            "Epoch 49/50\n",
            "875/875 [==============================] - 61s 70ms/step - loss: 0.0570 - accuracy: 0.9821 - val_loss: 0.1049 - val_accuracy: 0.9243\n",
            "Epoch 50/50\n",
            "875/875 [==============================] - 61s 70ms/step - loss: 0.0519 - accuracy: 0.9851 - val_loss: 1.2272 - val_accuracy: 0.9313\n"
          ],
          "name": "stdout"
        }
      ]
    },
    {
      "cell_type": "markdown",
      "metadata": {
        "id": "0anhkyJ3XbsM",
        "colab_type": "text"
      },
      "source": [
        "# Saving The Model"
      ]
    },
    {
      "cell_type": "code",
      "metadata": {
        "id": "zYwNsoE2XXbz",
        "colab_type": "code",
        "colab": {}
      },
      "source": [
        "model.save('cats_vrs_dogs_v1')"
      ],
      "execution_count": 0,
      "outputs": []
    },
    {
      "cell_type": "markdown",
      "metadata": {
        "id": "u0f6yi37Xsie",
        "colab_type": "text"
      },
      "source": [
        "# Plot"
      ]
    },
    {
      "cell_type": "code",
      "metadata": {
        "id": "4ek3683Ticzd",
        "colab_type": "code",
        "outputId": "5f3ee751-e199-402d-88d5-690d4c8fd8c3",
        "colab": {
          "base_uri": "https://localhost:8080/",
          "height": 35
        }
      },
      "source": [
        "history.history.keys()"
      ],
      "execution_count": 0,
      "outputs": [
        {
          "output_type": "execute_result",
          "data": {
            "text/plain": [
              "dict_keys(['val_loss', 'val_accuracy', 'loss', 'accuracy'])"
            ]
          },
          "metadata": {
            "tags": []
          },
          "execution_count": 71
        }
      ]
    },
    {
      "cell_type": "code",
      "metadata": {
        "id": "-vTujZ3BXr2q",
        "colab_type": "code",
        "outputId": "30739e11-7ca2-495c-b3b5-ccab1c896bda",
        "colab": {
          "base_uri": "https://localhost:8080/",
          "height": 545
        }
      },
      "source": [
        "import matplotlib.pyplot as plt\n",
        "\n",
        "acc= history.history['accuracy']\n",
        "val_acc = history.history['val_accuracy']\n",
        "loss=history.history['loss']\n",
        "val_loss=history.history['val_loss']\n",
        "\n",
        "epochs = range(1, len(acc)+1)\n",
        "\n",
        "plt.plot(epochs, acc, 'bo', label='Training Accuracy')\n",
        "plt.plot(epochs, val_acc, 'b', label='Validation Accuracy')\n",
        "plt.title('Training and Validation Accuracy')\n",
        "plt.legend()\n",
        "plt.figure()\n",
        "\n",
        "plt.plot(epochs, loss, 'bo', label='Training Loss')\n",
        "plt.plot(epochs, val_loss, 'b', label='Validation Loss')\n",
        "plt.title('Training and Validation Accuracy')\n",
        "plt.legend()\n",
        "\n",
        "plt.show()\n",
        "\n"
      ],
      "execution_count": 0,
      "outputs": [
        {
          "output_type": "display_data",
          "data": {
            "image/png": "[encoded data removed]",
            "text/plain": [
              "<Figure size 432x288 with 1 Axes>"
            ]
          },
          "metadata": {
            "tags": [],
            "needs_background": "light"
          }
        },
        {
          "output_type": "display_data",
          "data": {
            "image/png": "[encoded data removed]",
            "text/plain": [
              "<Figure size 432x288 with 1 Axes>"
            ]
          },
          "metadata": {
            "tags": [],
            "needs_background": "light"
          }
        }
      ]
    },
    {
      "cell_type": "markdown",
      "metadata": {
        "id": "UkbSMVuNygio",
        "colab_type": "text"
      },
      "source": [
        "Model starts to overfit after 18 Epochs, so we should stop at 18 epochs"
      ]
    },
    {
      "cell_type": "markdown",
      "metadata": {
        "id": "JiFsruyy3Vmc",
        "colab_type": "text"
      },
      "source": [
        "# Updated Model"
      ]
    },
    {
      "cell_type": "code",
      "metadata": {
        "id": "dl2iQoUo3Y4H",
        "colab_type": "code",
        "colab": {}
      },
      "source": [
        "from keras import backend\n",
        "backend.clear_session()"
      ],
      "execution_count": 0,
      "outputs": []
    },
    {
      "cell_type": "code",
      "metadata": {
        "id": "FbRfnsCZ3Y88",
        "colab_type": "code",
        "outputId": "0ec0b0a8-9f87-4a82-a25c-f494c2efe825",
        "colab": {
          "base_uri": "https://localhost:8080/",
          "height": 988
        }
      },
      "source": [
        "from keras import models\n",
        "from keras import layers\n",
        "model1=models.Sequential()\n",
        "model1.add(layers.Conv2D(32, (3,3), activation=\"relu\", input_shape=(WIDTH, HEIGHT, 3)))\n",
        "model1.add(layers.Conv2D(32, (3,3), activation=\"relu\"))\n",
        "model1.add(layers.BatchNormalization())\n",
        "model1.add(layers.MaxPooling2D((2,2)))\n",
        "model1.add(layers.Dropout(0.25))\n",
        "\n",
        "model1.add(layers.Conv2D(64, (3,3), activation=\"relu\"))\n",
        "model1.add(layers.Conv2D(64, (3,3), activation=\"relu\"))\n",
        "model1.add(layers.BatchNormalization())\n",
        "model1.add(layers.MaxPooling2D(2,2))\n",
        "model1.add(layers.Dropout(0.25))\n",
        "\n",
        "model1.add(layers.Conv2D(128, (3,3), activation=\"relu\"))\n",
        "model1.add(layers.Conv2D(128, (3,3), activation=\"relu\"))\n",
        "model1.add(layers.BatchNormalization())\n",
        "model1.add(layers.MaxPooling2D((2,2)))\n",
        "model1.add(layers.Dropout(0.25))\n",
        "\n",
        "model1.add(layers.Conv2D(64, (3,3), activation=\"relu\"))\n",
        "model1.add(layers.Conv2D(64, (3,3), activation=\"relu\"))\n",
        "model1.add(layers.BatchNormalization())\n",
        "model1.add(layers.MaxPooling2D((2,2)))\n",
        "model1.add(layers.Dropout(0.25))\n",
        "model1.add(layers.Flatten())\n",
        "model1.add(layers.Dense(512, activation=\"relu\"))\n",
        "model1.add(layers.Dropout(0.5))\n",
        "model1.add(layers.Dense(1, activation=\"sigmoid\"))\n",
        "model1.summary()"
      ],
      "execution_count": 0,
      "outputs": [
        {
          "output_type": "stream",
          "text": [
            "Model: \"sequential_1\"\n",
            "_________________________________________________________________\n",
            "Layer (type)                 Output Shape              Param #   \n",
            "=================================================================\n",
            "conv2d_1 (Conv2D)            (None, 148, 148, 32)      896       \n",
            "_________________________________________________________________\n",
            "conv2d_2 (Conv2D)            (None, 146, 146, 32)      9248      \n",
            "_________________________________________________________________\n",
            "batch_normalization_1 (Batch (None, 146, 146, 32)      128       \n",
            "_________________________________________________________________\n",
            "max_pooling2d_1 (MaxPooling2 (None, 73, 73, 32)        0         \n",
            "_________________________________________________________________\n",
            "dropout_1 (Dropout)          (None, 73, 73, 32)        0         \n",
            "_________________________________________________________________\n",
            "conv2d_3 (Conv2D)            (None, 71, 71, 64)        18496     \n",
            "_________________________________________________________________\n",
            "conv2d_4 (Conv2D)            (None, 69, 69, 64)        36928     \n",
            "_________________________________________________________________\n",
            "batch_normalization_2 (Batch (None, 69, 69, 64)        256       \n",
            "_________________________________________________________________\n",
            "max_pooling2d_2 (MaxPooling2 (None, 34, 34, 64)        0         \n",
            "_________________________________________________________________\n",
            "dropout_2 (Dropout)          (None, 34, 34, 64)        0         \n",
            "_________________________________________________________________\n",
            "conv2d_5 (Conv2D)            (None, 32, 32, 128)       73856     \n",
            "_________________________________________________________________\n",
            "conv2d_6 (Conv2D)            (None, 30, 30, 128)       147584    \n",
            "_________________________________________________________________\n",
            "batch_normalization_3 (Batch (None, 30, 30, 128)       512       \n",
            "_________________________________________________________________\n",
            "max_pooling2d_3 (MaxPooling2 (None, 15, 15, 128)       0         \n",
            "_________________________________________________________________\n",
            "dropout_3 (Dropout)          (None, 15, 15, 128)       0         \n",
            "_________________________________________________________________\n",
            "conv2d_7 (Conv2D)            (None, 13, 13, 64)        73792     \n",
            "_________________________________________________________________\n",
            "conv2d_8 (Conv2D)            (None, 11, 11, 64)        36928     \n",
            "_________________________________________________________________\n",
            "batch_normalization_4 (Batch (None, 11, 11, 64)        256       \n",
            "_________________________________________________________________\n",
            "max_pooling2d_4 (MaxPooling2 (None, 5, 5, 64)          0         \n",
            "_________________________________________________________________\n",
            "dropout_4 (Dropout)          (None, 5, 5, 64)          0         \n",
            "_________________________________________________________________\n",
            "flatten_1 (Flatten)          (None, 1600)              0         \n",
            "_________________________________________________________________\n",
            "dense_1 (Dense)              (None, 512)               819712    \n",
            "_________________________________________________________________\n",
            "dropout_5 (Dropout)          (None, 512)               0         \n",
            "_________________________________________________________________\n",
            "dense_2 (Dense)              (None, 1)                 513       \n",
            "=================================================================\n",
            "Total params: 1,219,105\n",
            "Trainable params: 1,218,529\n",
            "Non-trainable params: 576\n",
            "_________________________________________________________________\n"
          ],
          "name": "stdout"
        }
      ]
    },
    {
      "cell_type": "code",
      "metadata": {
        "id": "7GhfKtLJ4UL5",
        "colab_type": "code",
        "outputId": "1813cefa-b96f-4419-bb69-62b8ff7bf6f2",
        "colab": {
          "base_uri": "https://localhost:8080/",
          "height": 35
        }
      },
      "source": [
        "model1.compile(loss=\"binary_crossentropy\", \n",
        "             optimizer='rmsprop',\n",
        "             metrics=[\"accuracy\"])\n",
        "print(\"[INFO]: model compiled...\")"
      ],
      "execution_count": 0,
      "outputs": [
        {
          "output_type": "stream",
          "text": [
            "[INFO]: model compiled...\n"
          ],
          "name": "stdout"
        }
      ]
    },
    {
      "cell_type": "code",
      "metadata": {
        "id": "rbMFWqyBy37E",
        "colab_type": "code",
        "outputId": "272e9525-072f-47a8-e9cc-c0094859007f",
        "colab": {
          "base_uri": "https://localhost:8080/",
          "height": 661
        }
      },
      "source": [
        "history1 = model1.fit_generator(train_generator,  epochs=18, validation_data= valid_generator)"
      ],
      "execution_count": 0,
      "outputs": [
        {
          "output_type": "stream",
          "text": [
            "Epoch 1/18\n",
            "875/875 [==============================] - 62s 71ms/step - loss: 0.7707 - accuracy: 0.5958 - val_loss: 0.8005 - val_accuracy: 0.5290\n",
            "Epoch 2/18\n",
            "875/875 [==============================] - 62s 71ms/step - loss: 0.5762 - accuracy: 0.7212 - val_loss: 0.6083 - val_accuracy: 0.6457\n",
            "Epoch 3/18\n",
            "875/875 [==============================] - 61s 70ms/step - loss: 0.4708 - accuracy: 0.7847 - val_loss: 0.3283 - val_accuracy: 0.8293\n",
            "Epoch 4/18\n",
            "875/875 [==============================] - 61s 70ms/step - loss: 0.3882 - accuracy: 0.8378 - val_loss: 0.9391 - val_accuracy: 0.7497\n",
            "Epoch 5/18\n",
            "875/875 [==============================] - 61s 70ms/step - loss: 0.3385 - accuracy: 0.8626 - val_loss: 0.3305 - val_accuracy: 0.8690\n",
            "Epoch 6/18\n",
            "875/875 [==============================] - 60s 69ms/step - loss: 0.2946 - accuracy: 0.8843 - val_loss: 0.5449 - val_accuracy: 0.8573\n",
            "Epoch 7/18\n",
            "875/875 [==============================] - 61s 69ms/step - loss: 0.2687 - accuracy: 0.8906 - val_loss: 0.1951 - val_accuracy: 0.8817\n",
            "Epoch 8/18\n",
            "875/875 [==============================] - 61s 70ms/step - loss: 0.2494 - accuracy: 0.8984 - val_loss: 0.3684 - val_accuracy: 0.8777\n",
            "Epoch 9/18\n",
            "875/875 [==============================] - 61s 70ms/step - loss: 0.2344 - accuracy: 0.9117 - val_loss: 0.1103 - val_accuracy: 0.8983\n",
            "Epoch 10/18\n",
            "875/875 [==============================] - 61s 70ms/step - loss: 0.2176 - accuracy: 0.9154 - val_loss: 0.1180 - val_accuracy: 0.9210\n",
            "Epoch 11/18\n",
            "875/875 [==============================] - 62s 70ms/step - loss: 0.2056 - accuracy: 0.9190 - val_loss: 0.0830 - val_accuracy: 0.8780\n",
            "Epoch 12/18\n",
            "875/875 [==============================] - 61s 70ms/step - loss: 0.1997 - accuracy: 0.9250 - val_loss: 0.2340 - val_accuracy: 0.8987\n",
            "Epoch 13/18\n",
            "875/875 [==============================] - 61s 69ms/step - loss: 0.1861 - accuracy: 0.9271 - val_loss: 0.1042 - val_accuracy: 0.9157\n",
            "Epoch 14/18\n",
            "875/875 [==============================] - 60s 69ms/step - loss: 0.1736 - accuracy: 0.9342 - val_loss: 0.1033 - val_accuracy: 0.8947\n",
            "Epoch 15/18\n",
            "875/875 [==============================] - 60s 69ms/step - loss: 0.1676 - accuracy: 0.9384 - val_loss: 0.3891 - val_accuracy: 0.9210\n",
            "Epoch 16/18\n",
            "875/875 [==============================] - 61s 69ms/step - loss: 0.1563 - accuracy: 0.9433 - val_loss: 0.0250 - val_accuracy: 0.9153\n",
            "Epoch 17/18\n",
            "875/875 [==============================] - 61s 70ms/step - loss: 0.1545 - accuracy: 0.9431 - val_loss: 0.0460 - val_accuracy: 0.9327\n",
            "Epoch 18/18\n",
            "875/875 [==============================] - 61s 70ms/step - loss: 0.1459 - accuracy: 0.9438 - val_loss: 0.3516 - val_accuracy: 0.9333\n"
          ],
          "name": "stdout"
        }
      ]
    },
    {
      "cell_type": "code",
      "metadata": {
        "id": "kMM8mQSOzxPk",
        "colab_type": "code",
        "outputId": "f2d9b88f-d13b-408c-bd36-29bdbafbfa48",
        "colab": {
          "base_uri": "https://localhost:8080/",
          "height": 545
        }
      },
      "source": [
        "import matplotlib.pyplot as plt\n",
        "\n",
        "acc= history1.history['accuracy']\n",
        "val_acc = history1.history['val_accuracy']\n",
        "loss=history1.history['loss']\n",
        "val_loss=history1.history['val_loss']\n",
        "\n",
        "epochs = range(1, len(acc)+1)\n",
        "\n",
        "plt.plot(epochs, acc, 'bo', label='Training Accuracy')\n",
        "plt.plot(epochs, val_acc, 'b', label='Validation Accuracy')\n",
        "plt.title('Training and Validation Accuracy')\n",
        "plt.legend()\n",
        "plt.figure()\n",
        "\n",
        "plt.plot(epochs, loss, 'bo', label='Training Loss')\n",
        "plt.plot(epochs, val_loss, 'b', label='Validation Loss')\n",
        "plt.title('Training and Validation Accuracy')\n",
        "plt.legend()\n",
        "\n",
        "plt.show()\n",
        "\n"
      ],
      "execution_count": 0,
      "outputs": [
        {
          "output_type": "display_data",
          "data": {
            "image/png": "[encoded data removed]",
            "text/plain": [
              "<Figure size 432x288 with 1 Axes>"
            ]
          },
          "metadata": {
            "tags": [],
            "needs_background": "light"
          }
        },
        {
          "output_type": "display_data",
          "data": {
            "image/png": "[encoded data removed]",
            "text/plain": [
              "<Figure size 432x288 with 1 Axes>"
            ]
          },
          "metadata": {
            "tags": [],
            "needs_background": "light"
          }
        }
      ]
    },
    {
      "cell_type": "markdown",
      "metadata": {
        "id": "75h8ukH9vGAB",
        "colab_type": "text"
      },
      "source": [
        "# Evaluate Model"
      ]
    },
    {
      "cell_type": "markdown",
      "metadata": {
        "id": "OIOCKYfMzWs_",
        "colab_type": "text"
      },
      "source": [
        "## Model 1"
      ]
    },
    {
      "cell_type": "markdown",
      "metadata": {
        "id": "NkOL90NmzZLd",
        "colab_type": "text"
      },
      "source": [
        "Model with 50 Epochs"
      ]
    },
    {
      "cell_type": "code",
      "metadata": {
        "id": "hEZDucw4vIY_",
        "colab_type": "code",
        "outputId": "c7b76dc0-9323-47b4-d45d-c89e3fd7c633",
        "colab": {
          "base_uri": "https://localhost:8080/",
          "height": 52
        }
      },
      "source": [
        "model.evaluate(test_generator)"
      ],
      "execution_count": 0,
      "outputs": [
        {
          "output_type": "stream",
          "text": [
            "225/225 [==============================] - 13s 57ms/step\n"
          ],
          "name": "stdout"
        },
        {
          "output_type": "execute_result",
          "data": {
            "text/plain": [
              "[0.33670392632484436, 0.9308888912200928]"
            ]
          },
          "metadata": {
            "tags": []
          },
          "execution_count": 78
        }
      ]
    },
    {
      "cell_type": "markdown",
      "metadata": {
        "id": "Qp1kWCKDzgis",
        "colab_type": "text"
      },
      "source": [
        "## Model 2 (Updated Model)"
      ]
    },
    {
      "cell_type": "markdown",
      "metadata": {
        "id": "R40uCqU8zjFf",
        "colab_type": "text"
      },
      "source": [
        "Model with 18 Epochs"
      ]
    },
    {
      "cell_type": "code",
      "metadata": {
        "id": "llPCsgHdyzra",
        "colab_type": "code",
        "outputId": "1541878d-4246-4e8d-ad06-0e28682a9f7b",
        "colab": {
          "base_uri": "https://localhost:8080/",
          "height": 52
        }
      },
      "source": [
        "model1.evaluate(test_generator)"
      ],
      "execution_count": 0,
      "outputs": [
        {
          "output_type": "stream",
          "text": [
            "225/225 [==============================] - 13s 58ms/step\n"
          ],
          "name": "stdout"
        },
        {
          "output_type": "execute_result",
          "data": {
            "text/plain": [
              "[0.09589871019124985, 0.9248889088630676]"
            ]
          },
          "metadata": {
            "tags": []
          },
          "execution_count": 79
        }
      ]
    },
    {
      "cell_type": "markdown",
      "metadata": {
        "id": "iniE2ZBr0BYL",
        "colab_type": "text"
      },
      "source": [
        "# Data Augmentation"
      ]
    },
    {
      "cell_type": "markdown",
      "metadata": {
        "id": "9-0C1mUa0Gqt",
        "colab_type": "text"
      },
      "source": [
        "It will generate more training data from existing training samples, by augmenting the sample via a number of random transform"
      ]
    },
    {
      "cell_type": "code",
      "metadata": {
        "id": "TciZrxO6z_MS",
        "colab_type": "code",
        "colab": {}
      },
      "source": [
        "datagen = ImageDataGenerator(rotation_range =40, width_shift_range=0.2, height_shift_range=0.2, shear_range=0.2, zoom_range=0.2, horizontal_flip=True, fill_mode='nearest')"
      ],
      "execution_count": 0,
      "outputs": []
    },
    {
      "cell_type": "markdown",
      "metadata": {
        "id": "ysqjdrkb4DmG",
        "colab_type": "text"
      },
      "source": [
        "## Model 3"
      ]
    },
    {
      "cell_type": "code",
      "metadata": {
        "id": "h9XAQtRU2T0O",
        "colab_type": "code",
        "colab": {}
      },
      "source": [
        "from keras import backend\n",
        "backend.clear_session()"
      ],
      "execution_count": 0,
      "outputs": []
    },
    {
      "cell_type": "code",
      "metadata": {
        "id": "XcJ9bdWv4HPR",
        "colab_type": "code",
        "outputId": "cfb8859d-4d7a-4840-b253-d66413b90eb0",
        "colab": {
          "base_uri": "https://localhost:8080/",
          "height": 988
        }
      },
      "source": [
        "from keras import models\n",
        "from keras import layers\n",
        "model2=models.Sequential()\n",
        "model2.add(layers.Conv2D(32, (3,3), activation=\"relu\", input_shape=(WIDTH, HEIGHT, 3)))\n",
        "model2.add(layers.Conv2D(32, (3,3), activation=\"relu\"))\n",
        "model2.add(layers.BatchNormalization())\n",
        "model2.add(layers.MaxPooling2D((2,2)))\n",
        "model2.add(layers.Dropout(0.25))\n",
        "\n",
        "model2.add(layers.Conv2D(64, (3,3), activation=\"relu\"))\n",
        "model2.add(layers.Conv2D(64, (3,3), activation=\"relu\"))\n",
        "model2.add(layers.BatchNormalization())\n",
        "model2.add(layers.MaxPooling2D(2,2))\n",
        "model2.add(layers.Dropout(0.25))\n",
        "\n",
        "model2.add(layers.Conv2D(128, (3,3), activation=\"relu\"))\n",
        "model2.add(layers.Conv2D(128, (3,3), activation=\"relu\"))\n",
        "model2.add(layers.BatchNormalization())\n",
        "model2.add(layers.MaxPooling2D((2,2)))\n",
        "model2.add(layers.Dropout(0.25))\n",
        "\n",
        "model2.add(layers.Conv2D(64, (3,3), activation=\"relu\"))\n",
        "model2.add(layers.Conv2D(64, (3,3), activation=\"relu\"))\n",
        "model2.add(layers.BatchNormalization())\n",
        "model2.add(layers.MaxPooling2D((2,2)))\n",
        "model2.add(layers.Dropout(0.25))\n",
        "model2.add(layers.Flatten())\n",
        "model2.add(layers.Dense(512, activation=\"relu\"))\n",
        "model2.add(layers.Dropout(0.5))\n",
        "model2.add(layers.Dense(1, activation=\"sigmoid\"))\n",
        "model2.summary()"
      ],
      "execution_count": 0,
      "outputs": [
        {
          "output_type": "stream",
          "text": [
            "Model: \"sequential_1\"\n",
            "_________________________________________________________________\n",
            "Layer (type)                 Output Shape              Param #   \n",
            "=================================================================\n",
            "conv2d_1 (Conv2D)            (None, 148, 148, 32)      896       \n",
            "_________________________________________________________________\n",
            "conv2d_2 (Conv2D)            (None, 146, 146, 32)      9248      \n",
            "_________________________________________________________________\n",
            "batch_normalization_1 (Batch (None, 146, 146, 32)      128       \n",
            "_________________________________________________________________\n",
            "max_pooling2d_1 (MaxPooling2 (None, 73, 73, 32)        0         \n",
            "_________________________________________________________________\n",
            "dropout_1 (Dropout)          (None, 73, 73, 32)        0         \n",
            "_________________________________________________________________\n",
            "conv2d_3 (Conv2D)            (None, 71, 71, 64)        18496     \n",
            "_________________________________________________________________\n",
            "conv2d_4 (Conv2D)            (None, 69, 69, 64)        36928     \n",
            "_________________________________________________________________\n",
            "batch_normalization_2 (Batch (None, 69, 69, 64)        256       \n",
            "_________________________________________________________________\n",
            "max_pooling2d_2 (MaxPooling2 (None, 34, 34, 64)        0         \n",
            "_________________________________________________________________\n",
            "dropout_2 (Dropout)          (None, 34, 34, 64)        0         \n",
            "_________________________________________________________________\n",
            "conv2d_5 (Conv2D)            (None, 32, 32, 128)       73856     \n",
            "_________________________________________________________________\n",
            "conv2d_6 (Conv2D)            (None, 30, 30, 128)       147584    \n",
            "_________________________________________________________________\n",
            "batch_normalization_3 (Batch (None, 30, 30, 128)       512       \n",
            "_________________________________________________________________\n",
            "max_pooling2d_3 (MaxPooling2 (None, 15, 15, 128)       0         \n",
            "_________________________________________________________________\n",
            "dropout_3 (Dropout)          (None, 15, 15, 128)       0         \n",
            "_________________________________________________________________\n",
            "conv2d_7 (Conv2D)            (None, 13, 13, 64)        73792     \n",
            "_________________________________________________________________\n",
            "conv2d_8 (Conv2D)            (None, 11, 11, 64)        36928     \n",
            "_________________________________________________________________\n",
            "batch_normalization_4 (Batch (None, 11, 11, 64)        256       \n",
            "_________________________________________________________________\n",
            "max_pooling2d_4 (MaxPooling2 (None, 5, 5, 64)          0         \n",
            "_________________________________________________________________\n",
            "dropout_4 (Dropout)          (None, 5, 5, 64)          0         \n",
            "_________________________________________________________________\n",
            "flatten_1 (Flatten)          (None, 1600)              0         \n",
            "_________________________________________________________________\n",
            "dense_1 (Dense)              (None, 512)               819712    \n",
            "_________________________________________________________________\n",
            "dropout_5 (Dropout)          (None, 512)               0         \n",
            "_________________________________________________________________\n",
            "dense_2 (Dense)              (None, 1)                 513       \n",
            "=================================================================\n",
            "Total params: 1,219,105\n",
            "Trainable params: 1,218,529\n",
            "Non-trainable params: 576\n",
            "_________________________________________________________________\n"
          ],
          "name": "stdout"
        }
      ]
    },
    {
      "cell_type": "code",
      "metadata": {
        "id": "V9UPXBMV4ScE",
        "colab_type": "code",
        "outputId": "7e86bf58-5b89-4514-9cc7-011d808f758e",
        "colab": {
          "base_uri": "https://localhost:8080/",
          "height": 35
        }
      },
      "source": [
        "model2.compile(loss=\"binary_crossentropy\", \n",
        "             optimizer='rmsprop',\n",
        "             metrics=[\"accuracy\"])\n",
        "print(\"[INFO]: model compiled...\")"
      ],
      "execution_count": 0,
      "outputs": [
        {
          "output_type": "stream",
          "text": [
            "[INFO]: model compiled...\n"
          ],
          "name": "stdout"
        }
      ]
    },
    {
      "cell_type": "markdown",
      "metadata": {
        "id": "C1o1cgDR4kt2",
        "colab_type": "text"
      },
      "source": [
        "## Training The Model Using Data-augmentation Generator"
      ]
    },
    {
      "cell_type": "code",
      "metadata": {
        "id": "Ho6nhqLd4eoF",
        "colab_type": "code",
        "outputId": "d70e5d6d-9775-415c-d5de-5d34753d2413",
        "colab": {
          "base_uri": "https://localhost:8080/",
          "height": 69
        }
      },
      "source": [
        "#we are using ImageDataGenerator to read images from directories\n",
        "from keras.preprocessing.image import ImageDataGenerator\n",
        "\n",
        "train_datagen = ImageDataGenerator(rescale=1/255, rotation_range =40, \n",
        "                                   width_shift_range=0.2, height_shift_range=0.2, \n",
        "                                   shear_range=0.2, zoom_range=0.2, \n",
        "                                   horizontal_flip=True)\n",
        "test_datagen= ImageDataGenerator(rescale=1/255)\n",
        "valid_datagen= ImageDataGenerator(rescale=1/255)\n",
        "\n",
        "train_generator = train_datagen.flow_from_dataframe(\n",
        "    dataset_train, x_col=\"image_path\",\n",
        "    y_col=\"target\", target_size=(150,150), class_mode= \"binary\",  batch_size=32)\n",
        "test_generator= test_datagen.flow_from_dataframe(\n",
        "    dataset_test, x_col=\"image_path\",\n",
        "    y_col=\"target\", target_size=(150,150),\n",
        "    batch_size=32,\n",
        "    class_mode='binary')\n",
        "valid_generator= valid_datagen.flow_from_dataframe(\n",
        "    dataset_valid, x_col=\"image_path\",\n",
        "    y_col=\"target\", target_size=(150,150),\n",
        "    batch_size=32,\n",
        "    class_mode='binary')"
      ],
      "execution_count": 0,
      "outputs": [
        {
          "output_type": "stream",
          "text": [
            "Found 17500 validated image filenames belonging to 2 classes.\n",
            "Found 4500 validated image filenames belonging to 2 classes.\n",
            "Found 3000 validated image filenames belonging to 2 classes.\n"
          ],
          "name": "stdout"
        }
      ]
    },
    {
      "cell_type": "code",
      "metadata": {
        "id": "1-Iork0j5Zke",
        "colab_type": "code",
        "outputId": "9f502452-cec5-4599-a794-60eeb90f9e6c",
        "colab": {
          "base_uri": "https://localhost:8080/",
          "height": 1000
        }
      },
      "source": [
        "history2 = model2.fit_generator(train_generator,  epochs=50, validation_data= valid_generator)"
      ],
      "execution_count": 0,
      "outputs": [
        {
          "output_type": "stream",
          "text": [
            "Epoch 1/50\n",
            "547/547 [==============================] - 142s 260ms/step - loss: 0.8217 - accuracy: 0.5571 - val_loss: 0.8527 - val_accuracy: 0.5367\n",
            "Epoch 2/50\n",
            "547/547 [==============================] - 139s 253ms/step - loss: 0.6620 - accuracy: 0.6247 - val_loss: 0.4736 - val_accuracy: 0.6527\n",
            "Epoch 3/50\n",
            "547/547 [==============================] - 138s 253ms/step - loss: 0.6233 - accuracy: 0.6697 - val_loss: 0.6429 - val_accuracy: 0.6810\n",
            "Epoch 4/50\n",
            "547/547 [==============================] - 137s 250ms/step - loss: 0.5761 - accuracy: 0.7107 - val_loss: 0.4796 - val_accuracy: 0.5873\n",
            "Epoch 5/50\n",
            "547/547 [==============================] - 135s 248ms/step - loss: 0.5321 - accuracy: 0.7393 - val_loss: 0.6107 - val_accuracy: 0.7163\n",
            "Epoch 6/50\n",
            "547/547 [==============================] - 134s 246ms/step - loss: 0.5057 - accuracy: 0.7606 - val_loss: 3.4669 - val_accuracy: 0.5550\n",
            "Epoch 7/50\n",
            "547/547 [==============================] - 137s 251ms/step - loss: 0.4756 - accuracy: 0.7780 - val_loss: 0.7165 - val_accuracy: 0.7867\n",
            "Epoch 8/50\n",
            "547/547 [==============================] - 137s 251ms/step - loss: 0.4578 - accuracy: 0.7854 - val_loss: 0.3931 - val_accuracy: 0.8400\n",
            "Epoch 9/50\n",
            "547/547 [==============================] - 138s 252ms/step - loss: 0.4346 - accuracy: 0.8028 - val_loss: 0.3580 - val_accuracy: 0.8327\n",
            "Epoch 10/50\n",
            "547/547 [==============================] - 138s 252ms/step - loss: 0.4233 - accuracy: 0.8103 - val_loss: 1.3094 - val_accuracy: 0.6373\n",
            "Epoch 11/50\n",
            "547/547 [==============================] - 137s 251ms/step - loss: 0.4065 - accuracy: 0.8140 - val_loss: 0.1586 - val_accuracy: 0.8660\n",
            "Epoch 12/50\n",
            "547/547 [==============================] - 138s 252ms/step - loss: 0.4030 - accuracy: 0.8238 - val_loss: 0.7156 - val_accuracy: 0.8680\n",
            "Epoch 13/50\n",
            "547/547 [==============================] - 138s 252ms/step - loss: 0.3843 - accuracy: 0.8326 - val_loss: 0.8652 - val_accuracy: 0.7500\n",
            "Epoch 14/50\n",
            "547/547 [==============================] - 139s 254ms/step - loss: 0.3715 - accuracy: 0.8375 - val_loss: 0.2364 - val_accuracy: 0.8763\n",
            "Epoch 15/50\n",
            "547/547 [==============================] - 141s 258ms/step - loss: 0.3608 - accuracy: 0.8409 - val_loss: 0.1612 - val_accuracy: 0.8847\n",
            "Epoch 16/50\n",
            "547/547 [==============================] - 142s 259ms/step - loss: 0.3548 - accuracy: 0.8506 - val_loss: 0.4582 - val_accuracy: 0.7877\n",
            "Epoch 17/50\n",
            "547/547 [==============================] - 141s 258ms/step - loss: 0.3447 - accuracy: 0.8525 - val_loss: 0.4584 - val_accuracy: 0.7967\n",
            "Epoch 18/50\n",
            "547/547 [==============================] - 139s 254ms/step - loss: 0.3422 - accuracy: 0.8537 - val_loss: 0.4882 - val_accuracy: 0.8587\n",
            "Epoch 19/50\n",
            "547/547 [==============================] - 140s 257ms/step - loss: 0.3274 - accuracy: 0.8586 - val_loss: 0.1354 - val_accuracy: 0.9137\n",
            "Epoch 20/50\n",
            "547/547 [==============================] - 140s 256ms/step - loss: 0.3250 - accuracy: 0.8593 - val_loss: 0.1611 - val_accuracy: 0.8813\n",
            "Epoch 21/50\n",
            "547/547 [==============================] - 140s 255ms/step - loss: 0.3134 - accuracy: 0.8695 - val_loss: 0.0762 - val_accuracy: 0.8880\n",
            "Epoch 22/50\n",
            "547/547 [==============================] - 139s 254ms/step - loss: 0.3004 - accuracy: 0.8729 - val_loss: 0.3662 - val_accuracy: 0.8727\n",
            "Epoch 23/50\n",
            "547/547 [==============================] - 139s 255ms/step - loss: 0.2998 - accuracy: 0.8733 - val_loss: 0.2406 - val_accuracy: 0.8977\n",
            "Epoch 24/50\n",
            "547/547 [==============================] - 139s 255ms/step - loss: 0.2979 - accuracy: 0.8738 - val_loss: 0.1307 - val_accuracy: 0.9333\n",
            "Epoch 25/50\n",
            "547/547 [==============================] - 139s 255ms/step - loss: 0.2911 - accuracy: 0.8773 - val_loss: 0.4563 - val_accuracy: 0.9260\n",
            "Epoch 26/50\n",
            "547/547 [==============================] - 140s 256ms/step - loss: 0.2860 - accuracy: 0.8830 - val_loss: 0.1722 - val_accuracy: 0.8803\n",
            "Epoch 27/50\n",
            "547/547 [==============================] - 139s 254ms/step - loss: 0.2840 - accuracy: 0.8830 - val_loss: 0.4088 - val_accuracy: 0.8880\n",
            "Epoch 28/50\n",
            "547/547 [==============================] - 139s 255ms/step - loss: 0.2748 - accuracy: 0.8838 - val_loss: 0.0640 - val_accuracy: 0.9200\n",
            "Epoch 29/50\n",
            "547/547 [==============================] - 140s 257ms/step - loss: 0.2677 - accuracy: 0.8859 - val_loss: 0.2845 - val_accuracy: 0.9173\n",
            "Epoch 30/50\n",
            "547/547 [==============================] - 139s 255ms/step - loss: 0.2664 - accuracy: 0.8877 - val_loss: 0.1528 - val_accuracy: 0.9103\n",
            "Epoch 31/50\n",
            "547/547 [==============================] - 140s 256ms/step - loss: 0.2689 - accuracy: 0.8895 - val_loss: 0.0607 - val_accuracy: 0.9370\n",
            "Epoch 32/50\n",
            "547/547 [==============================] - 138s 253ms/step - loss: 0.2600 - accuracy: 0.8893 - val_loss: 0.5693 - val_accuracy: 0.8920\n",
            "Epoch 33/50\n",
            "547/547 [==============================] - 139s 254ms/step - loss: 0.2610 - accuracy: 0.8876 - val_loss: 0.1517 - val_accuracy: 0.9463\n",
            "Epoch 34/50\n",
            "547/547 [==============================] - 138s 252ms/step - loss: 0.2559 - accuracy: 0.8940 - val_loss: 0.1263 - val_accuracy: 0.9393\n",
            "Epoch 35/50\n",
            "547/547 [==============================] - 137s 251ms/step - loss: 0.2500 - accuracy: 0.8951 - val_loss: 0.0654 - val_accuracy: 0.9327\n",
            "Epoch 36/50\n",
            "547/547 [==============================] - 138s 252ms/step - loss: 0.2445 - accuracy: 0.8986 - val_loss: 0.4784 - val_accuracy: 0.8320\n",
            "Epoch 37/50\n",
            "547/547 [==============================] - 138s 253ms/step - loss: 0.2456 - accuracy: 0.8987 - val_loss: 0.3239 - val_accuracy: 0.9317\n",
            "Epoch 38/50\n",
            "547/547 [==============================] - 138s 253ms/step - loss: 0.2507 - accuracy: 0.8970 - val_loss: 0.1833 - val_accuracy: 0.9303\n",
            "Epoch 39/50\n",
            "547/547 [==============================] - 139s 254ms/step - loss: 0.2462 - accuracy: 0.8989 - val_loss: 0.1810 - val_accuracy: 0.9123\n",
            "Epoch 40/50\n",
            "547/547 [==============================] - 139s 254ms/step - loss: 0.2424 - accuracy: 0.8987 - val_loss: 0.0958 - val_accuracy: 0.9023\n",
            "Epoch 41/50\n",
            "547/547 [==============================] - 140s 255ms/step - loss: 0.2344 - accuracy: 0.9014 - val_loss: 0.1069 - val_accuracy: 0.9413\n",
            "Epoch 42/50\n",
            "547/547 [==============================] - 141s 257ms/step - loss: 0.2392 - accuracy: 0.9005 - val_loss: 0.0359 - val_accuracy: 0.9457\n",
            "Epoch 43/50\n",
            "547/547 [==============================] - 141s 257ms/step - loss: 0.2386 - accuracy: 0.9023 - val_loss: 0.0508 - val_accuracy: 0.9453\n",
            "Epoch 44/50\n",
            "547/547 [==============================] - 139s 255ms/step - loss: 0.2348 - accuracy: 0.9011 - val_loss: 0.3899 - val_accuracy: 0.9290\n",
            "Epoch 45/50\n",
            "547/547 [==============================] - 142s 260ms/step - loss: 0.2293 - accuracy: 0.9029 - val_loss: 0.0807 - val_accuracy: 0.9173\n",
            "Epoch 46/50\n",
            "547/547 [==============================] - 142s 260ms/step - loss: 0.2284 - accuracy: 0.9082 - val_loss: 0.0654 - val_accuracy: 0.9363\n",
            "Epoch 47/50\n",
            "547/547 [==============================] - 138s 253ms/step - loss: 0.2225 - accuracy: 0.9063 - val_loss: 0.0544 - val_accuracy: 0.9543\n",
            "Epoch 48/50\n",
            "547/547 [==============================] - 140s 255ms/step - loss: 0.2238 - accuracy: 0.9077 - val_loss: 0.0832 - val_accuracy: 0.9533\n",
            "Epoch 49/50\n",
            "547/547 [==============================] - 140s 256ms/step - loss: 0.2208 - accuracy: 0.9123 - val_loss: 0.0847 - val_accuracy: 0.9250\n",
            "Epoch 50/50\n",
            "547/547 [==============================] - 140s 257ms/step - loss: 0.2154 - accuracy: 0.9128 - val_loss: 0.1026 - val_accuracy: 0.9437\n"
          ],
          "name": "stdout"
        }
      ]
    },
    {
      "cell_type": "code",
      "metadata": {
        "id": "mozlNR2z8Y42",
        "colab_type": "code",
        "outputId": "9497a6a9-c04a-47cb-9628-f208227c1361",
        "colab": {
          "base_uri": "https://localhost:8080/",
          "height": 545
        }
      },
      "source": [
        "acc= history2.history['accuracy']\n",
        "val_acc = history2.history['val_accuracy']\n",
        "loss=history2.history['loss']\n",
        "val_loss=history2.history['val_loss']\n",
        "\n",
        "epochs = range(1, len(acc)+1)\n",
        "\n",
        "plt.plot(epochs, acc, 'bo', label='Training Accuracy')\n",
        "plt.plot(epochs, val_acc, 'b', label='Validation Accuracy')\n",
        "plt.title('Training and Validation Accuracy')\n",
        "plt.legend()\n",
        "plt.figure()\n",
        "\n",
        "plt.plot(epochs, loss, 'bo', label='Training Loss')\n",
        "plt.plot(epochs, val_loss, 'b', label='Validation Loss')\n",
        "plt.title('Training and Validation Accuracy')\n",
        "plt.legend()\n",
        "\n",
        "plt.show()"
      ],
      "execution_count": 0,
      "outputs": [
        {
          "output_type": "display_data",
          "data": {
            "image/png": "[encoded data removed]",
            "text/plain": [
              "<Figure size 432x288 with 1 Axes>"
            ]
          },
          "metadata": {
            "tags": [],
            "needs_background": "light"
          }
        },
        {
          "output_type": "display_data",
          "data": {
            "image/png": "[encoded data removed]",
            "text/plain": [
              "<Figure size 432x288 with 1 Axes>"
            ]
          },
          "metadata": {
            "tags": [],
            "needs_background": "light"
          }
        }
      ]
    },
    {
      "cell_type": "markdown",
      "metadata": {
        "id": "scC6A-3j6maZ",
        "colab_type": "text"
      },
      "source": [
        "## Evaluate Model"
      ]
    },
    {
      "cell_type": "code",
      "metadata": {
        "id": "YLdPptcS6h2-",
        "colab_type": "code",
        "outputId": "a0df68ba-1f7d-4393-a193-c8488d8e4ad9",
        "colab": {
          "base_uri": "https://localhost:8080/",
          "height": 69
        }
      },
      "source": [
        "model2.evaluate(test_generator)"
      ],
      "execution_count": 0,
      "outputs": [
        {
          "output_type": "stream",
          "text": [
            "141/141 [==============================] - 13s 89ms/step\n"
          ],
          "name": "stdout"
        },
        {
          "output_type": "execute_result",
          "data": {
            "text/plain": [
              "[0.6582826375961304, 0.7791110873222351]"
            ]
          },
          "metadata": {
            "tags": []
          },
          "execution_count": 54
        },
        {
          "output_type": "stream",
          "text": [
            "141/141 [==============================] - 13s 91ms/step\n"
          ],
          "name": "stdout"
        },
        {
          "output_type": "execute_result",
          "data": {
            "text/plain": [
              "[0.1301768720149994, 0.9382222294807434]"
            ]
          },
          "metadata": {
            "tags": []
          },
          "execution_count": 87
        }
      ]
    }
  ]
}